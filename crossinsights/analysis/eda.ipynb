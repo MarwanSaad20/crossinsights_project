{
 "cells": [
  {
   "cell_type": "code",
   "execution_count": null,
   "id": "3d19ca2b",
   "metadata": {
    "vscode": {
     "languageId": "plaintext"
    }
   },
   "outputs": [],
   "source": [
    "{\n",
    " \"cells\": [\n",
    "  {\n",
    "   \"cell_type\": \"code\",\n",
    "   \"execution_count\": null,\n",
    "   \"metadata\": {},\n",
    "   \"outputs\": [],\n",
    "   \"source\": [\n",
    "    \"import pandas as pd\\n\",\n",
    "    \"from crossinsights.utils.data_loader import load_raw_data\\n\",\n",
    "    \"from crossinsights.utils.eda_tools import plot_rating_distribution, plot_genre_popularity, plot_age_vs_ratings\\n\",\n",
    "    \"\\n\",\n",
    "    \"# Load raw data with error handling\\n\",\n",
    "    \"try:\\n\",\n",
    "    \"    users, movies, ratings = load_raw_data()\\n\",\n",
    "    \"except Exception as e:\\n\",\n",
    "    \"    print(f\\\"Error loading data: {e}\\\")\\n\",\n",
    "    \"    raise\\n\",\n",
    "    \"\\n\",\n",
    "    \"# Basic statistics\\n\",\n",
    "    \"print(\\\"Users Info:\\\")\\n\",\n",
    "    \"print(users.info())\\n\",\n",
    "    \"print(\\\"\\\\nMovies Info:\\\")\\n\",\n",
    "    \"print(movies.info())\\n\",\n",
    "    \"print(\\\"\\\\nRatings Info:\\\")\\n\",\n",
    "    \"print(ratings.info())\\n\",\n",
    "    \"\\n\",\n",
    "    \"# Plot distributions\\n\",\n",
    "    \"plot_rating_distribution(ratings)\\n\",\n",
    "    \"plot_genre_popularity(movies)\\n\",\n",
    "    \"plot_age_vs_ratings(users, ratings)\"\n",
    "   ]\n",
    "  }\n",
    " ],\n",
    " \"metadata\": {\n",
    "  \"kernelspec\": {\n",
    "   \"display_name\": \"Python 3\",\n",
    "   \"language\": \"python\",\n",
    "   \"name\": \"python3\"\n",
    "  },\n",
    "  \"language_info\": {\n",
    "   \"codemirror_mode\": {\n",
    "    \"name\": \"ipython\",\n",
    "    \"version\": 3\n",
    "   },\n",
    "   \"file_extension\": \".py\",\n",
    "   \"mimetype\": \"text/x-python\",\n",
    "   \"name\": \"python\",\n",
    "   \"nbconvert_exporter\": \"python\",\n",
    "   \"pygments_lexer\": \"ipython3\",\n",
    "   \"version\": \"3.8.0\"\n",
    "  }\n",
    " },\n",
    " \"nbformat\": 4,\n",
    " \"nbformat_minor\": 4\n",
    "}"
   ]
  }
 ],
 "metadata": {
  "language_info": {
   "name": "python"
  }
 },
 "nbformat": 4,
 "nbformat_minor": 5
}
